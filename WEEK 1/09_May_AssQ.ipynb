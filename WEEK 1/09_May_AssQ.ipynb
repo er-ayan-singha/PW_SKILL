{
 "cells": [
  {
   "cell_type": "code",
   "execution_count": 28,
   "id": "a176a908-83a7-40ee-90cb-66c0fa24ca7c",
   "metadata": {},
   "outputs": [
    {
     "data": {
      "text/plain": [
       "'Q1. Create one variable containing following type of data:\\n(i) string\\n(ii) list\\n(iii) float\\n(iv) tuple\\n'"
      ]
     },
     "execution_count": 28,
     "metadata": {},
     "output_type": "execute_result"
    }
   ],
   "source": [
    "'''Q1. Create one variable containing following type of data:\n",
    "(i) string\n",
    "(ii) list\n",
    "(iii) float\n",
    "(iv) tuple\n",
    "'''"
   ]
  },
  {
   "cell_type": "code",
   "execution_count": 1,
   "id": "1be31d62-47bc-4875-a1ea-bca789f6391b",
   "metadata": {},
   "outputs": [],
   "source": [
    "# String"
   ]
  },
  {
   "cell_type": "code",
   "execution_count": 15,
   "id": "93ff366a-9985-4ef9-9b97-8aa305057264",
   "metadata": {},
   "outputs": [
    {
     "name": "stdout",
     "output_type": "stream",
     "text": [
      "Type of my_string: <class 'str'>\n",
      "Value of my_string: Ayan\n"
     ]
    }
   ],
   "source": [
    "my_string = \"Ayan\"\n",
    "print(\"Type of my_string:\", type(my_string))\n",
    "print(\"Value of my_string:\", my_string)"
   ]
  },
  {
   "cell_type": "code",
   "execution_count": 7,
   "id": "11cf4bf5-cc55-44e3-8368-4a7ae7c502b3",
   "metadata": {},
   "outputs": [],
   "source": [
    "# List"
   ]
  },
  {
   "cell_type": "code",
   "execution_count": 14,
   "id": "6adfa926-f551-447d-852b-82bf30fedbaa",
   "metadata": {},
   "outputs": [
    {
     "name": "stdout",
     "output_type": "stream",
     "text": [
      "Type of my_list: <class 'list'>\n",
      "Value of my_list: [1, 2, 3, 4, 5]\n"
     ]
    }
   ],
   "source": [
    "my_list = [1, 2, 3, 4, 5]\n",
    "print(\"Type of my_list:\", type(my_list))\n",
    "print(\"Value of my_list:\", my_list)"
   ]
  },
  {
   "cell_type": "code",
   "execution_count": 12,
   "id": "c3f7d79d-b951-4685-acee-250af5768ffa",
   "metadata": {},
   "outputs": [],
   "source": [
    "# Float"
   ]
  },
  {
   "cell_type": "code",
   "execution_count": 13,
   "id": "698c2aa9-d650-4ec5-a5a3-29239842effc",
   "metadata": {},
   "outputs": [
    {
     "name": "stdout",
     "output_type": "stream",
     "text": [
      "Type of my_float: <class 'float'>\n",
      "Value of my_float: 3.14\n"
     ]
    }
   ],
   "source": [
    "my_float = 3.14\n",
    "print(\"Type of my_float:\", type(my_float))\n",
    "print(\"Value of my_float:\", my_float)"
   ]
  },
  {
   "cell_type": "code",
   "execution_count": 16,
   "id": "80574949-e05a-45ff-81bc-3758d835473b",
   "metadata": {},
   "outputs": [],
   "source": [
    "# Tuple"
   ]
  },
  {
   "cell_type": "code",
   "execution_count": 17,
   "id": "80501fe6-44ab-4ac5-9db4-fbcf75bc9a23",
   "metadata": {},
   "outputs": [
    {
     "name": "stdout",
     "output_type": "stream",
     "text": [
      "Type of my_tuple: <class 'tuple'>\n",
      "Value of my_tuple: (1, 2, 3, 4, 5)\n"
     ]
    }
   ],
   "source": [
    "my_tuple = (1, 2, 3, 4, 5)\n",
    "print(\"Type of my_tuple:\", type(my_tuple))\n",
    "print(\"Value of my_tuple:\", my_tuple)"
   ]
  },
  {
   "cell_type": "code",
   "execution_count": 19,
   "id": "e8f3f737-3324-4550-ae03-65f8648ff946",
   "metadata": {},
   "outputs": [
    {
     "data": {
      "text/plain": [
       "'Q2. Given are some following variables containing data:\\n(i) varl = \"\\n(ii) var2 = \\'[DS, ML, Python]\\'\\n(iii) var3 = [\\'DS\\', \\'ML\\', \\'Python\\']\\n(iv) var4 = 1.\\nWhat will be the data type of the above given variable.'"
      ]
     },
     "execution_count": 19,
     "metadata": {},
     "output_type": "execute_result"
    }
   ],
   "source": [
    "'''Q2. Given are some following variables containing data:\n",
    "(i) varl = \"\n",
    "(ii) var2 = '[DS, ML, Python]'\n",
    "(iii) var3 = ['DS', 'ML', 'Python']\n",
    "(iv) var4 = 1.\n",
    "What will be the data type of the above given variable.'''"
   ]
  },
  {
   "cell_type": "code",
   "execution_count": 20,
   "id": "087f8830-27be-4e5c-96c2-3bf69c57e3ee",
   "metadata": {},
   "outputs": [],
   "source": [
    "varl = ' ' \n",
    "var2 = '[DS, ML, Python]'\n",
    "var3 = ['DS', 'ML', 'Python']\n",
    "var4 = 1"
   ]
  },
  {
   "cell_type": "code",
   "execution_count": 37,
   "id": "b432d567-eeb4-42a2-9fe0-db9387018b3a",
   "metadata": {},
   "outputs": [
    {
     "data": {
      "text/plain": [
       "\"(i) var1 = ' ': This contains a single space enclosed in quotes. It's a string.\\n(ii) var2 = '[DS, ML, Python]': This looks like a string, but it's enclosed within square brackets which would typically denote a list in Python. However, the elements inside the square brackets are not valid as they are not enclosed in quotes. So, Python will treat it as a string.\\n(iii) var3 = ['DS', 'ML', 'Python']: This contains elements enclosed in square brackets separated by commas. This is a valid syntax for defining a list in Python.\\n(iv) var4 = 1.: This is a floating-point number in Python.\""
      ]
     },
     "execution_count": 37,
     "metadata": {},
     "output_type": "execute_result"
    }
   ],
   "source": [
    "'''(i) var1 = ' ': This contains a single space enclosed in quotes. It's a string.\n",
    "(ii) var2 = '[DS, ML, Python]': This looks like a string, but it's enclosed within square brackets which would typically denote a list in Python. However, the elements inside the square brackets are not valid as they are not enclosed in quotes. So, Python will treat it as a string.\n",
    "(iii) var3 = ['DS', 'ML', 'Python']: This contains elements enclosed in square brackets separated by commas. This is a valid syntax for defining a list in Python.\n",
    "(iv) var4 = 1.: This is a floating-point number in Python.'''"
   ]
  },
  {
   "cell_type": "code",
   "execution_count": 22,
   "id": "e12e33d8-c10f-4be7-8829-de784516bb9b",
   "metadata": {},
   "outputs": [
    {
     "data": {
      "text/plain": [
       "str"
      ]
     },
     "execution_count": 22,
     "metadata": {},
     "output_type": "execute_result"
    }
   ],
   "source": [
    "type(varl)"
   ]
  },
  {
   "cell_type": "code",
   "execution_count": 24,
   "id": "0f23a715-37c3-4d8c-b7e5-dba52a450d10",
   "metadata": {},
   "outputs": [
    {
     "data": {
      "text/plain": [
       "str"
      ]
     },
     "execution_count": 24,
     "metadata": {},
     "output_type": "execute_result"
    }
   ],
   "source": [
    "type(var2)"
   ]
  },
  {
   "cell_type": "code",
   "execution_count": 25,
   "id": "0d635519-2ca9-4cca-a9c5-d7043602f87f",
   "metadata": {},
   "outputs": [
    {
     "data": {
      "text/plain": [
       "list"
      ]
     },
     "execution_count": 25,
     "metadata": {},
     "output_type": "execute_result"
    }
   ],
   "source": [
    "type(var3)"
   ]
  },
  {
   "cell_type": "code",
   "execution_count": 26,
   "id": "4af7d30d-45e9-4e25-9ec8-4e2dc4700a54",
   "metadata": {},
   "outputs": [
    {
     "data": {
      "text/plain": [
       "int"
      ]
     },
     "execution_count": 26,
     "metadata": {},
     "output_type": "execute_result"
    }
   ],
   "source": [
    "type(var4)"
   ]
  },
  {
   "cell_type": "code",
   "execution_count": 27,
   "id": "0ceb0c48-e1f0-4549-be9c-2181a04467f3",
   "metadata": {},
   "outputs": [
    {
     "data": {
      "text/plain": [
       "'Q3. Explain the use of the following operators using an example:\\n(i) /\\n(ii) %\\n(iii) //\\n(iv) ** \\n'"
      ]
     },
     "execution_count": 27,
     "metadata": {},
     "output_type": "execute_result"
    }
   ],
   "source": [
    "'''Q3. Explain the use of the following operators using an example:\n",
    "(i) /\n",
    "(ii) %\n",
    "(iii) //\n",
    "(iv) ** \n",
    "'''"
   ]
  },
  {
   "cell_type": "code",
   "execution_count": 30,
   "id": "320f2074-1416-4818-ab38-17b0198a7d61",
   "metadata": {},
   "outputs": [
    {
     "data": {
      "text/plain": [
       "'(i) / (Division Operator):\\n\\nThe division operator / is used to perform regular division between two numbers.\\n\\nIt returns a floating-point result, even if the division yields a whole number.'"
      ]
     },
     "execution_count": 30,
     "metadata": {},
     "output_type": "execute_result"
    }
   ],
   "source": [
    "'''(i) / (Division Operator):\n",
    "\n",
    "The division operator / is used to perform regular division between two numbers.\n",
    "\n",
    "It returns a floating-point result, even if the division yields a whole number.'''"
   ]
  },
  {
   "cell_type": "code",
   "execution_count": 29,
   "id": "ae196715-6937-4478-9861-89f4adcd9314",
   "metadata": {},
   "outputs": [
    {
     "name": "stdout",
     "output_type": "stream",
     "text": [
      "3.3333333333333335\n"
     ]
    }
   ],
   "source": [
    "result = 10 / 3\n",
    "print(result)"
   ]
  },
  {
   "cell_type": "code",
   "execution_count": 31,
   "id": "437b42c8-778f-4aa7-8852-cdb7e3e60542",
   "metadata": {},
   "outputs": [
    {
     "data": {
      "text/plain": [
       "\"(ii) % (Modulus Operator):\\n\\nThe modulus operator % returns the remainder of the division between two numbers.\\nIt's often used to check if a number is divisible by another number.\""
      ]
     },
     "execution_count": 31,
     "metadata": {},
     "output_type": "execute_result"
    }
   ],
   "source": [
    "'''(ii) % (Modulus Operator):\n",
    "\n",
    "The modulus operator % returns the remainder of the division between two numbers.\n",
    "It's often used to check if a number is divisible by another number.'''"
   ]
  },
  {
   "cell_type": "code",
   "execution_count": 32,
   "id": "9cee72ed-b7b9-4210-9754-00f5474a51cb",
   "metadata": {},
   "outputs": [
    {
     "name": "stdout",
     "output_type": "stream",
     "text": [
      "1\n"
     ]
    }
   ],
   "source": [
    "remainder = 10 % 3\n",
    "print(remainder)"
   ]
  },
  {
   "cell_type": "code",
   "execution_count": 33,
   "id": "7d70b791-1a7d-4d07-ba7c-eff3eeb4f794",
   "metadata": {},
   "outputs": [
    {
     "data": {
      "text/plain": [
       "'(iii) // (Floor Division Operator):\\n\\nThe floor division operator // returns the quotient of the division, rounded down to the nearest whole number (discarding any fractional part).'"
      ]
     },
     "execution_count": 33,
     "metadata": {},
     "output_type": "execute_result"
    }
   ],
   "source": [
    "'''(iii) // (Floor Division Operator):\n",
    "\n",
    "The floor division operator // returns the quotient of the division, rounded down to the nearest whole number (discarding any fractional part).'''"
   ]
  },
  {
   "cell_type": "code",
   "execution_count": 34,
   "id": "beae1ba2-1d2e-46b0-85ba-a1cb4fbefa9e",
   "metadata": {},
   "outputs": [
    {
     "name": "stdout",
     "output_type": "stream",
     "text": [
      "3\n"
     ]
    }
   ],
   "source": [
    "result = 10 // 3\n",
    "print(result) "
   ]
  },
  {
   "cell_type": "code",
   "execution_count": 35,
   "id": "5187aad3-0eb3-47d6-bfd5-fbc3f963bf76",
   "metadata": {},
   "outputs": [
    {
     "data": {
      "text/plain": [
       "'(iv) ** (Exponentiation Operator):\\n\\nThe exponentiation operator ** is used to raise a number to the power of another number.'"
      ]
     },
     "execution_count": 35,
     "metadata": {},
     "output_type": "execute_result"
    }
   ],
   "source": [
    "'''(iv) ** (Exponentiation Operator):\n",
    "\n",
    "The exponentiation operator ** is used to raise a number to the power of another number.'''"
   ]
  },
  {
   "cell_type": "code",
   "execution_count": 36,
   "id": "0235e417-e019-46af-8447-8231c6d16216",
   "metadata": {},
   "outputs": [
    {
     "name": "stdout",
     "output_type": "stream",
     "text": [
      "8\n"
     ]
    }
   ],
   "source": [
    "result = 2 ** 3\n",
    "print(result)"
   ]
  },
  {
   "cell_type": "code",
   "execution_count": 39,
   "id": "fb87c888-5a71-4176-b27e-bfab6f8d4c13",
   "metadata": {},
   "outputs": [
    {
     "data": {
      "text/plain": [
       "'Q4. Create a list of length 10 of your choice containing multiple types of data. Using for loop print the element and its data type.'"
      ]
     },
     "execution_count": 39,
     "metadata": {},
     "output_type": "execute_result"
    }
   ],
   "source": [
    "'''Q4. Create a list of length 10 of your choice containing multiple types of data. Using for loop print the element and its data type.'''"
   ]
  },
  {
   "cell_type": "code",
   "execution_count": 40,
   "id": "f551859a-7fe1-4de7-b25f-baaca4fe852a",
   "metadata": {},
   "outputs": [
    {
     "name": "stdout",
     "output_type": "stream",
     "text": [
      "Element: 10\n",
      "Data type: <class 'int'>\n",
      "\n",
      "Element: 3.14\n",
      "Data type: <class 'float'>\n",
      "\n",
      "Element: Hello\n",
      "Data type: <class 'str'>\n",
      "\n",
      "Element: True\n",
      "Data type: <class 'bool'>\n",
      "\n",
      "Element: [1, 2, 3]\n",
      "Data type: <class 'list'>\n",
      "\n",
      "Element: {'key': 'value'}\n",
      "Data type: <class 'dict'>\n",
      "\n",
      "Element: (4, 5)\n",
      "Data type: <class 'tuple'>\n",
      "\n",
      "Element: None\n",
      "Data type: <class 'NoneType'>\n",
      "\n",
      "Element: {'apple', 'banana'}\n",
      "Data type: <class 'set'>\n",
      "\n",
      "Element: 999\n",
      "Data type: <class 'int'>\n",
      "\n"
     ]
    }
   ],
   "source": [
    "my_list = [10, 3.14, 'Hello', True, [1, 2, 3], {'key': 'value'}, (4, 5), None, {'apple', 'banana'}, 999]\n",
    "\n",
    "# Loop through each element in the list\n",
    "for element in my_list:\n",
    "    # Print the element\n",
    "    print(\"Element:\", element)\n",
    "    # Print the data type of the element\n",
    "    print(\"Data type:\", type(element))\n",
    "    # Adding an empty line for better readability\n",
    "    print()"
   ]
  },
  {
   "cell_type": "code",
   "execution_count": 41,
   "id": "b30fa99d-cbd4-4dc6-a34a-8c94ba84fc85",
   "metadata": {},
   "outputs": [
    {
     "data": {
      "text/plain": [
       "'Q5. Using a while loop, verify if the number A is purely divisible by number B and if so then how many times it can be divisible.'"
      ]
     },
     "execution_count": 41,
     "metadata": {},
     "output_type": "execute_result"
    }
   ],
   "source": [
    "'''Q5. Using a while loop, verify if the number A is purely divisible by number B and if so then how many times it can be divisible.'''"
   ]
  },
  {
   "cell_type": "code",
   "execution_count": 51,
   "id": "f84678cb-4a72-46b6-8bf0-73079b073c25",
   "metadata": {},
   "outputs": [
    {
     "name": "stdin",
     "output_type": "stream",
     "text": [
      "Enter the dividend (A):  16\n",
      "Enter the divisor (B):  2\n"
     ]
    },
    {
     "name": "stdout",
     "output_type": "stream",
     "text": [
      "A can be purely divided by B 4 times.\n"
     ]
    }
   ],
   "source": [
    "# Input numbers A and B\n",
    "A = int(input(\"Enter the dividend (A): \"))\n",
    "B = int(input(\"Enter the divisor (B): \"))\n",
    "\n",
    "# Initialize a counter to keep track of how many times A can be divided by B\n",
    "count = 0\n",
    "\n",
    "# Loop until A is not divisible by B\n",
    "while A % B == 0:\n",
    "    # Divide A by B\n",
    "    A /= B\n",
    "    # Increment the counter\n",
    "    count += 1\n",
    "\n",
    "# If A becomes less than B at any point, it means it's no longer divisible\n",
    "# Print the result\n",
    "if(count>0):\n",
    "    print(f\"A can be purely divided by B {count} times.\")\n",
    "else:\n",
    "    print(\"A is not purely divisble by B \")"
   ]
  },
  {
   "cell_type": "code",
   "execution_count": 52,
   "id": "8df0e3c9-5ac8-4658-910d-72e059ab0ed1",
   "metadata": {},
   "outputs": [
    {
     "name": "stdin",
     "output_type": "stream",
     "text": [
      "Enter the dividend (A):  10\n",
      "Enter the divisor (B):  2\n"
     ]
    },
    {
     "name": "stdout",
     "output_type": "stream",
     "text": [
      "A can be purely divided by B 1 times.\n"
     ]
    }
   ],
   "source": [
    "# Input numbers A and B\n",
    "A = int(input(\"Enter the dividend (A): \"))\n",
    "B = int(input(\"Enter the divisor (B): \"))\n",
    "\n",
    "# Initialize a counter to keep track of how many times A can be divided by B\n",
    "count = 0\n",
    "\n",
    "# Loop until A is not divisible by B\n",
    "while A % B == 0:\n",
    "    # Divide A by B\n",
    "    A /= B\n",
    "    # Increment the counter\n",
    "    count += 1\n",
    "\n",
    "# If A becomes less than B at any point, it means it's no longer divisible\n",
    "# Print the result\n",
    "if(count>0):\n",
    "    print(f\"A can be purely divided by B {count} times.\")\n",
    "else:\n",
    "    print(\"A is not purely divisble by B \")"
   ]
  },
  {
   "cell_type": "code",
   "execution_count": 53,
   "id": "8a847b4a-02cd-4b56-bf81-2841e3d931b5",
   "metadata": {},
   "outputs": [
    {
     "name": "stdin",
     "output_type": "stream",
     "text": [
      "Enter the dividend (A):  15\n",
      "Enter the divisor (B):  2\n"
     ]
    },
    {
     "name": "stdout",
     "output_type": "stream",
     "text": [
      "A is not purely divisble by B \n"
     ]
    }
   ],
   "source": [
    "# Input numbers A and B\n",
    "A = int(input(\"Enter the dividend (A): \"))\n",
    "B = int(input(\"Enter the divisor (B): \"))\n",
    "\n",
    "# Initialize a counter to keep track of how many times A can be divided by B\n",
    "count = 0\n",
    "\n",
    "# Loop until A is not divisible by B\n",
    "while A % B == 0:\n",
    "    # Divide A by B\n",
    "    A /= B\n",
    "    # Increment the counter\n",
    "    count += 1\n",
    "\n",
    "# If A becomes less than B at any point, it means it's no longer divisible\n",
    "# Print the result\n",
    "if(count>0):\n",
    "    print(f\"A can be purely divided by B {count} times.\")\n",
    "else:\n",
    "    print(\"A is not purely divisble by B \")"
   ]
  },
  {
   "cell_type": "code",
   "execution_count": 54,
   "id": "c21cd703-cade-452d-9ab7-0297e68d6931",
   "metadata": {},
   "outputs": [
    {
     "data": {
      "text/plain": [
       "'Q6. Create a list containing 25 int type data. Using for loop and if-else condition print if the element is divisible by 3 or not.'"
      ]
     },
     "execution_count": 54,
     "metadata": {},
     "output_type": "execute_result"
    }
   ],
   "source": [
    "'''Q6. Create a list containing 25 int type data. Using for loop and if-else condition print if the element is divisible by 3 or not.'''"
   ]
  },
  {
   "cell_type": "code",
   "execution_count": 55,
   "id": "3bc73c10-946b-4c49-b9ad-292f7a4db011",
   "metadata": {},
   "outputs": [
    {
     "name": "stdout",
     "output_type": "stream",
     "text": [
      "1 is not divisible by 3\n",
      "2 is not divisible by 3\n",
      "3 is divisible by 3\n",
      "4 is not divisible by 3\n",
      "5 is not divisible by 3\n",
      "6 is divisible by 3\n",
      "7 is not divisible by 3\n",
      "8 is not divisible by 3\n",
      "9 is divisible by 3\n",
      "10 is not divisible by 3\n",
      "11 is not divisible by 3\n",
      "12 is divisible by 3\n",
      "13 is not divisible by 3\n",
      "14 is not divisible by 3\n",
      "15 is divisible by 3\n",
      "16 is not divisible by 3\n",
      "17 is not divisible by 3\n",
      "18 is divisible by 3\n",
      "19 is not divisible by 3\n",
      "20 is not divisible by 3\n",
      "21 is divisible by 3\n",
      "22 is not divisible by 3\n",
      "23 is not divisible by 3\n",
      "24 is divisible by 3\n",
      "25 is not divisible by 3\n"
     ]
    }
   ],
   "source": [
    "# Create a list containing 25 integer type data\n",
    "my_list = [i for i in range(1, 26)]\n",
    "\n",
    "# Loop through each element in the list\n",
    "for num in my_list:\n",
    "    # Check if the element is divisible by 3\n",
    "    if num % 3 == 0:\n",
    "        print(f\"{num} is divisible by 3\")\n",
    "    else:\n",
    "        print(f\"{num} is not divisible by 3\")"
   ]
  },
  {
   "cell_type": "code",
   "execution_count": 56,
   "id": "4fa43fff-8f74-4de1-9f1a-56547b7d35af",
   "metadata": {},
   "outputs": [
    {
     "data": {
      "text/plain": [
       "'Q7. What do you understand about mutable and immutable data types? Give examples for both showing this property.'"
      ]
     },
     "execution_count": 56,
     "metadata": {},
     "output_type": "execute_result"
    }
   ],
   "source": [
    "'''Q7. What do you understand about mutable and immutable data types? Give examples for both showing this property.'''"
   ]
  },
  {
   "cell_type": "code",
   "execution_count": 57,
   "id": "23cf7a89-ce13-4383-98aa-3b589626640e",
   "metadata": {},
   "outputs": [
    {
     "data": {
      "text/plain": [
       "'Immutable data types:\\n\\nImmutable data types are those whose values cannot be changed after they are created.\\nIf you modify the value of an immutable object, Python creates a new object with the modified value rather than modifying the original object.\\nExamples of immutable data types in Python include integers, floats, strings, tuples, and frozensets.\\nExample:'"
      ]
     },
     "execution_count": 57,
     "metadata": {},
     "output_type": "execute_result"
    }
   ],
   "source": [
    "'''Immutable data types:\n",
    "\n",
    "Immutable data types are those whose values cannot be changed after they are created.\n",
    "If you modify the value of an immutable object, Python creates a new object with the modified value rather than modifying the original object.\n",
    "Examples of immutable data types in Python include integers, floats, strings, tuples, and frozensets.\n",
    "Example:'''"
   ]
  },
  {
   "cell_type": "code",
   "execution_count": 62,
   "id": "4698de18-8280-4488-a129-93e211797963",
   "metadata": {},
   "outputs": [
    {
     "name": "stdout",
     "output_type": "stream",
     "text": [
      "Original value of x: 5\n"
     ]
    }
   ],
   "source": [
    "# Immutable data types example\n",
    "x = 5\n",
    "print(\"Original value of x:\", x)"
   ]
  },
  {
   "cell_type": "code",
   "execution_count": 63,
   "id": "5f896fb2-0819-4d01-9bdc-68f44abbfbd2",
   "metadata": {},
   "outputs": [
    {
     "name": "stdout",
     "output_type": "stream",
     "text": [
      "Address of x: 140732465275816\n"
     ]
    }
   ],
   "source": [
    "print(\"Address of x:\", id(x))"
   ]
  },
  {
   "cell_type": "code",
   "execution_count": 64,
   "id": "41efd90c-0cb9-4fe9-aa1b-17f40dfeed8b",
   "metadata": {},
   "outputs": [
    {
     "name": "stdout",
     "output_type": "stream",
     "text": [
      "Modified value of x: 7\n",
      "Address of x: 140732465275880\n"
     ]
    }
   ],
   "source": [
    "x += 2\n",
    "print(\"Modified value of x:\", x)\n",
    "print(\"Address of x:\", id(x))"
   ]
  },
  {
   "cell_type": "code",
   "execution_count": 70,
   "id": "361a6566-b97a-417d-ad34-bb90e4b046f0",
   "metadata": {},
   "outputs": [
    {
     "data": {
      "text/plain": [
       "'Adress of Varieable x change when we modified it`s value, means when we modify it`s value it create a new object in a new location.'"
      ]
     },
     "execution_count": 70,
     "metadata": {},
     "output_type": "execute_result"
    }
   ],
   "source": [
    "'''Adress of Varieable x change when we modified it`s value, means when we modify it`s value it create a new object in a new location.'''"
   ]
  },
  {
   "cell_type": "code",
   "execution_count": 59,
   "id": "dc80ebb4-e63c-443f-a560-28682a292629",
   "metadata": {},
   "outputs": [
    {
     "data": {
      "text/plain": [
       "'Mutable data types:\\n\\nMutable data types are those whose values can be changed after they are created.\\nIf you modify the value of a mutable object, Python directly modifies the original object without creating a new one.\\nExamples of mutable data types in Python include lists, dictionaries, and sets.\\nExample:'"
      ]
     },
     "execution_count": 59,
     "metadata": {},
     "output_type": "execute_result"
    }
   ],
   "source": [
    "'''Mutable data types:\n",
    "\n",
    "Mutable data types are those whose values can be changed after they are created.\n",
    "If you modify the value of a mutable object, Python directly modifies the original object without creating a new one.\n",
    "Examples of mutable data types in Python include lists, dictionaries, and sets.\n",
    "Example:'''"
   ]
  },
  {
   "cell_type": "code",
   "execution_count": 66,
   "id": "cfd909da-b392-47de-a354-bf991ba6617f",
   "metadata": {},
   "outputs": [
    {
     "name": "stdout",
     "output_type": "stream",
     "text": [
      "Original list: [1, 2, 3]\n",
      "Address of my_list: 1978957528832\n"
     ]
    }
   ],
   "source": [
    "# Mutable data types example\n",
    "my_list = [1, 2, 3]\n",
    "print(\"Original list:\", my_list)\n",
    "print(\"Address of my_list:\", id(my_list))"
   ]
  },
  {
   "cell_type": "code",
   "execution_count": 67,
   "id": "3f1d3255-2add-44f1-9bb1-4d3ac632597a",
   "metadata": {},
   "outputs": [
    {
     "name": "stdout",
     "output_type": "stream",
     "text": [
      "Modified list: [1, 2, 3, 4]\n",
      "Address of modified my_list: 1978957528832\n"
     ]
    }
   ],
   "source": [
    "my_list.append(4)\n",
    "print(\"Modified list:\", my_list)\n",
    "print(\"Address of modified my_list:\", id(my_list))"
   ]
  },
  {
   "cell_type": "code",
   "execution_count": 68,
   "id": "788107d1-efb2-4d86-8245-b2f180d67463",
   "metadata": {},
   "outputs": [
    {
     "name": "stdout",
     "output_type": "stream",
     "text": [
      "Modified list: [1, 2, 30, 4]\n",
      "Address of modified my_list: 1978957528832\n"
     ]
    }
   ],
   "source": [
    "my_list[2] = 30\n",
    "# Printing the modified list\n",
    "print(\"Modified list:\", my_list)\n",
    "print(\"Address of modified my_list:\", id(my_list))"
   ]
  },
  {
   "cell_type": "code",
   "execution_count": 71,
   "id": "06fd560c-eee5-4ec2-8a8f-2c8e9c3b308c",
   "metadata": {},
   "outputs": [
    {
     "data": {
      "text/plain": [
       "'Here adress of varieable my_list not changed'"
      ]
     },
     "execution_count": 71,
     "metadata": {},
     "output_type": "execute_result"
    }
   ],
   "source": [
    "'''Here adress of varieable my_list not changed'''"
   ]
  },
  {
   "cell_type": "code",
   "execution_count": null,
   "id": "7021b103-9b90-476b-9fd0-b3f3c4adfcba",
   "metadata": {},
   "outputs": [],
   "source": []
  }
 ],
 "metadata": {
  "kernelspec": {
   "display_name": "Python 3 (ipykernel)",
   "language": "python",
   "name": "python3"
  },
  "language_info": {
   "codemirror_mode": {
    "name": "ipython",
    "version": 3
   },
   "file_extension": ".py",
   "mimetype": "text/x-python",
   "name": "python",
   "nbconvert_exporter": "python",
   "pygments_lexer": "ipython3",
   "version": "3.11.3"
  }
 },
 "nbformat": 4,
 "nbformat_minor": 5
}
