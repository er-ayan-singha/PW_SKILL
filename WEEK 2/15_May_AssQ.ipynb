{
 "cells": [
  {
   "cell_type": "code",
   "execution_count": 146,
   "id": "0422d7c3-4020-4392-8e33-78dbd41c6db3",
   "metadata": {},
   "outputs": [
    {
     "name": "stdout",
     "output_type": "stream",
     "text": [
      "Q1. How do you comment code in Python? What are the different types of comments?\n"
     ]
    }
   ],
   "source": [
    "'''Q1. How do you comment code in Python? What are the different types of comments?'''\n",
    "print(__doc__)"
   ]
  },
  {
   "cell_type": "code",
   "execution_count": 153,
   "id": "9afa8cdb-2b8a-4cc0-b98a-43d698016d3e",
   "metadata": {},
   "outputs": [
    {
     "name": "stdout",
     "output_type": "stream",
     "text": [
      "There are two main types of comments in Python:\n",
      "\n",
      "1) Single-line comments: Single - line comments start with the hash character  (#) and continue until the end of the line.\n",
      "\n",
      "Anything after the # symbol on that line is considered a comment.\n"
     ]
    }
   ],
   "source": [
    "'''There are two main types of comments in Python:\n",
    "\n",
    "1) Single-line comments: Single - line comments start with the hash character  (#) and continue until the end of the line.\n",
    "\n",
    "Anything after the # symbol on that line is considered a comment.'''\n",
    "print(__doc__)"
   ]
  },
  {
   "cell_type": "code",
   "execution_count": 20,
   "id": "5ffdeefe-6bf5-4c2b-8c2a-14f37a2b1cc2",
   "metadata": {},
   "outputs": [
    {
     "name": "stdout",
     "output_type": "stream",
     "text": [
      "Single-line comment look like - #myself ayan here \n"
     ]
    }
   ],
   "source": [
    "# This is a single-line comment\n",
    "print(\"Single-line comment look like - #myself ayan here \") "
   ]
  },
  {
   "cell_type": "code",
   "execution_count": 159,
   "id": "fd4f6f62-5f1c-4aeb-8326-92efc98ed672",
   "metadata": {},
   "outputs": [
    {
     "name": "stdout",
     "output_type": "stream",
     "text": [
      "Multi-line comments: Python doesn't have a built-in syntax for multi-line instead we use triple quotes to create a \n",
      "\n",
      "multi-line string, which can serve as a multi-line comment. While it's not specifically intended for commenting, \n",
      "\n",
      "it effectively serves the purpose.\n",
      "\n",
      "\n",
      "Multi-line comment look like - \n",
      " '''myself ayan here,\n",
      " currently I am pusuing my B.Tech''' \n"
     ]
    }
   ],
   "source": [
    "'''Multi-line comments: Python doesn't have a built-in syntax for multi-line instead we use triple quotes to create a \n",
    "\n",
    "multi-line string, which can serve as a multi-line comment. While it's not specifically intended for commenting, \n",
    "\n",
    "it effectively serves the purpose.'''\n",
    "print(__doc__)\n",
    "# This is a multi-line comment\n",
    "print(\"\\n\\nMulti-line comment look like - \\n '''myself ayan here,\\n currently I am pusuing my B.Tech''' \") \n"
   ]
  },
  {
   "cell_type": "code",
   "execution_count": 164,
   "id": "2c05e154-6381-4e4a-84a5-22785f354144",
   "metadata": {},
   "outputs": [
    {
     "name": "stdout",
     "output_type": "stream",
     "text": [
      "Alternatively, we can use  multi-line  strings  as  docstrings , which are string literals used as comments \n",
      "\n",
      "to document functions, classes, modules, or methods. Docstrings are accessible through the - __doc__ \n",
      "\n",
      "\n",
      "Now let`s print all the three multi-line docstring - \n",
      "\n",
      "Printing multi-line docstring  for my_function function -\n",
      "\n",
      "    This is a multi-line docstring  for my_function function \n",
      "    \n",
      "    It can span multiple lines and is typically used to provide documentation\n",
      "    \n",
      "    for functions, classes, or modules.\n",
      "    \n",
      "\n",
      "Printing multi-line docstring  for MyClass classn -\n",
      "\n",
      "    This is a multi-line docstring for the MyClass class.\n",
      "    \n",
      "    It can also span multiple lines and is useful for documenting classes.\n",
      "    \n",
      "\n",
      "Printing the last one multi-line docstring -\n",
      "\n",
      "This is just a test docstring for a module .\n",
      "\n",
      "It provides an overview of what the module contains and how it can be used.\n",
      "\n"
     ]
    }
   ],
   "source": [
    "'''Alternatively, we can use  multi-line  strings  as  docstrings , which are string literals used as comments \n",
    "\n",
    "to document functions, classes, modules, or methods. Docstrings are accessible through the - __doc__ '''\n",
    "print(__doc__)\n",
    "#examples \n",
    "def my_function():\n",
    "    \"\"\"\n",
    "    This is a multi-line docstring  for my_function function \n",
    "    \n",
    "    It can span multiple lines and is typically used to provide documentation\n",
    "    \n",
    "    for functions, classes, or modules.\n",
    "    \"\"\"\n",
    "    pass\n",
    "\n",
    "class MyClass:\n",
    "    \"\"\"\n",
    "    This is a multi-line docstring for the MyClass class.\n",
    "    \n",
    "    It can also span multiple lines and is useful for documenting classes.\n",
    "    \"\"\"\n",
    "    pass\n",
    "\n",
    "\"\"\"\n",
    "This is just a test docstring for a module .\n",
    "\n",
    "It provides an overview of what the module contains and how it can be used.\n",
    "\"\"\"\n",
    "print(\"\\n\\nNow let`s print all the three multi-line docstring - \")\n",
    "print(\"\\nPrinting multi-line docstring  for my_function function -\\n\" + my_function.__doc__)\n",
    "print(\"\\nPrinting multi-line docstring  for MyClass classn -\\n\" + MyClass.__doc__)\n",
    "print(\"\\nPrinting the last one multi-line docstring -\\n\" +__doc__)"
   ]
  },
  {
   "cell_type": "code",
   "execution_count": 165,
   "id": "a1cd2831-422d-423c-a96d-27f04f0051a7",
   "metadata": {},
   "outputs": [
    {
     "name": "stdout",
     "output_type": "stream",
     "text": [
      "Q2. What are variables in Python? How do you declare and assign values to variables?\n"
     ]
    }
   ],
   "source": [
    "\"\"\"Q2. What are variables in Python? How do you declare and assign values to variables?\"\"\"\n",
    "print(__doc__)"
   ]
  },
  {
   "cell_type": "code",
   "execution_count": 167,
   "id": "5d578281-f8f2-47a0-899f-0b6fba19f08e",
   "metadata": {},
   "outputs": [
    {
     "name": "stdout",
     "output_type": "stream",
     "text": [
      "In Python, variables are used to store data values. Unlike some other programming languages, Python is dynamically typed, \n",
      "\n",
      "which means we don't need to explicitly declare the data type of a variable. \n",
      "\n",
      "Instead, the data type is inferred at runtime based on the value assigned to the variable.We can declare and assign values to variables \n",
      "\n",
      "in Python using the following syntax:\n"
     ]
    }
   ],
   "source": [
    "\"\"\"In Python, variables are used to store data values. Unlike some other programming languages, Python is dynamically typed, \n",
    "\n",
    "which means we don't need to explicitly declare the data type of a variable. \n",
    "\n",
    "Instead, the data type is inferred at runtime based on the value assigned to the variable.We can declare and assign values to variables \n",
    "\n",
    "in Python using the following syntax:\"\"\"\n",
    "print(__doc__)"
   ]
  },
  {
   "cell_type": "code",
   "execution_count": 168,
   "id": "a66a9a30-6644-4283-a273-e375825ed76b",
   "metadata": {},
   "outputs": [
    {
     "name": "stdout",
     "output_type": "stream",
     "text": [
      " Variable Name: Choose a name for your variable. Variable names in Python can contain letters, digits, and underscores (_), \n",
      "\n",
      "but they cannot start with a digit.They are case-sensitive (e.g., my_variable and My_Variable are different variables).\n",
      "\n",
      "Assignment Operator (=): Use the equals sign (=) to assign a value to the variable.Value: Assign a value to the variable. \n",
      "\n",
      "This value can be of any data type supported by Python (e.g., integers, floats, strings, lists, tuples, dictionaries, etc.).\n",
      "\n",
      "random_variable = value\n"
     ]
    }
   ],
   "source": [
    "''' Variable Name: Choose a name for your variable. Variable names in Python can contain letters, digits, and underscores (_), \n",
    "\n",
    "but they cannot start with a digit.They are case-sensitive (e.g., my_variable and My_Variable are different variables).\n",
    "\n",
    "Assignment Operator (=): Use the equals sign (=) to assign a value to the variable.Value: Assign a value to the variable. \n",
    "\n",
    "This value can be of any data type supported by Python (e.g., integers, floats, strings, lists, tuples, dictionaries, etc.).\n",
    "\n",
    "random_variable = value'''\n",
    "print(__doc__)"
   ]
  },
  {
   "cell_type": "code",
   "execution_count": 70,
   "id": "d44abdd5-2277-44f8-961d-695c610c7651",
   "metadata": {},
   "outputs": [
    {
     "name": "stdout",
     "output_type": "stream",
     "text": [
      "Here are some examples: \n",
      "\n",
      "Printing all varieable name and values:- \n",
      "my_age= 21\n",
      "my_height= 5.7\n",
      "my_name = Ayan Singha\n",
      "my_list = [1, 2, 3, 4, 5]\n",
      "my_dict = {'name': 'Ayan', 'age': 21}\n"
     ]
    }
   ],
   "source": [
    "'''Here are some examples:'''\n",
    "print(__doc__,\"\\n\")\n",
    "# Assigning integer value to a variable\n",
    "my_age = 21\n",
    "# Assigning float value to a variable\n",
    "my_height = 5.7\n",
    "# Assigning string value to a variable\n",
    "my_name = \"Ayan Singha\"\n",
    "# Assigning list value to a variable\n",
    "my_list = [1, 2, 3, 4, 5]\n",
    "# Assigning dictionary value to a variable\n",
    "my_dict = {\"name\": \"Ayan\", \"age\": 21}\n",
    "print(\"Printing all varieable name and values:- \")\n",
    "print(\"my_age=\",my_age)\n",
    "print(\"my_height=\",my_height)\n",
    "print(\"my_name =\",my_name)\n",
    "print(\"my_list =\",my_list)\n",
    "print(\"my_dict =\",my_dict)"
   ]
  },
  {
   "cell_type": "code",
   "execution_count": 75,
   "id": "4d52ffd0-4e27-40c5-bf50-a4186d98f68f",
   "metadata": {},
   "outputs": [
    {
     "name": "stdout",
     "output_type": "stream",
     "text": [
      "We can also assign multiple values to multiple variables simultaneously using multiple assignment or unpacking: \n",
      "\n",
      "In both cases, the number of variables on the left side of the assignment operator must match the number of values on the right side, \n",
      "otherwise, you'll get a ValueError.\n",
      "\n",
      "Examples -  \n",
      "\n",
      "Printing all varieable name and values:- \n",
      "Values of -\n",
      "\ta =  40 \n",
      "\tb =  50 \n",
      "\tc =  60\n"
     ]
    }
   ],
   "source": [
    "'''We can also assign multiple values to multiple variables simultaneously using multiple assignment or unpacking:'''\n",
    "print(__doc__,\"\\n\")\n",
    "# Multiple assignment\n",
    "a, b, c = 10, 20, 30\n",
    "# Unpacking\n",
    "test_values = (40, 50, 60)\n",
    "a, b, c = test_values\n",
    "'''In both cases, the number of variables on the left side of the assignment operator must match the number of values on the right side, \n",
    "otherwise, you'll get a ValueError.\n",
    "\n",
    "Examples - '''\n",
    "print(__doc__,\"\\n\")\n",
    "print(\"Printing all varieable name and values:- \")\n",
    "print(\"Values of -\\n\\ta = \",a,\"\\n\\tb = \",b,\"\\n\\tc = \",c)"
   ]
  },
  {
   "cell_type": "code",
   "execution_count": 76,
   "id": "19b16ebf-8f82-49c7-9709-b2f58989eb51",
   "metadata": {},
   "outputs": [
    {
     "name": "stdout",
     "output_type": "stream",
     "text": [
      "Q3. How do you convert one data type to another in Python?\n"
     ]
    }
   ],
   "source": [
    "\"\"\"Q3. How do you convert one data type to another in Python?\"\"\"\n",
    "print(__doc__)"
   ]
  },
  {
   "cell_type": "code",
   "execution_count": 169,
   "id": "906cc7b9-e2d0-4156-b178-9a6a598315fd",
   "metadata": {},
   "outputs": [
    {
     "name": "stdout",
     "output_type": "stream",
     "text": [
      "In Python, you can convert one data type to another using a process called \"type conversion\" or \"type casting\". \n",
      "Python provides several built-in functions for this purpose. Here are some common ways to convert data types in Python: \n",
      "\n",
      "\n",
      "Implicit Type Conversion: Python automatically converts one data type to another when needed, such as during arithmetic \n",
      "operations or comparisons between different data types. This is also known as \"coercion\". \n",
      "\n",
      " Integer varieable\n",
      " a =  10\n",
      "Float varieable\n",
      " b =  5.5\n",
      "\n",
      " Integer is converted to float before the division\n",
      " result =  1.8181818181818181\n"
     ]
    }
   ],
   "source": [
    "\"\"\"In Python, you can convert one data type to another using a process called \"type conversion\" or \"type casting\". \n",
    "Python provides several built-in functions for this purpose. Here are some common ways to convert data types in Python:\"\"\"\n",
    "print(__doc__,\"\\n\\n\")\n",
    "\"\"\"Implicit Type Conversion: Python automatically converts one data type to another when needed, such as during arithmetic \n",
    "operations or comparisons between different data types. This is also known as \"coercion\".\"\"\"\n",
    "print(__doc__,\"\\n\")\n",
    "''' Integer varieable'''\n",
    "print(__doc__)\n",
    "a = 10  \n",
    "print(\" a = \",a)\n",
    "'''Float varieable'''\n",
    "print(__doc__)\n",
    "b = 5.5 \n",
    "print(\" b = \",b)\n",
    "\"\"\"\\n Integer is converted to float before the division\"\"\"\n",
    "print(__doc__)\n",
    "result = a / b\n",
    "print(\" result = \",result)  "
   ]
  },
  {
   "cell_type": "code",
   "execution_count": 94,
   "id": "cb4557f8-3b2c-4ea0-aa7a-de89972e3368",
   "metadata": {},
   "outputs": [
    {
     "name": "stdout",
     "output_type": "stream",
     "text": [
      "Explicit Type Conversion: You can explicitly convert a data type to another using built-in functions. Here are some common \n",
      "functions for type conversion:\n",
      "                                int(): Converts a value to an integer.\n",
      "                              float(): Converts a value to a floating-point number.\n",
      "                                str(): Converts a value to a string.\n",
      "                               list(): Converts a sequence (e.g., tuple, string) to a list.\n",
      "                              tuple(): Converts a sequence (e.g., list, string) to a tuple.\n",
      "                               dict(): Converts a sequence of key-value pairs (e.g., list of tuples) to a dictionary.\n",
      "Let`s see some examples\n"
     ]
    }
   ],
   "source": [
    "\"\"\"Explicit Type Conversion: You can explicitly convert a data type to another using built-in functions. Here are some common \n",
    "functions for type conversion:\n",
    "                                int(): Converts a value to an integer.\n",
    "                              float(): Converts a value to a floating-point number.\n",
    "                                str(): Converts a value to a string.\n",
    "                               list(): Converts a sequence (e.g., tuple, string) to a list.\n",
    "                              tuple(): Converts a sequence (e.g., list, string) to a tuple.\n",
    "                               dict(): Converts a sequence of key-value pairs (e.g., list of tuples) to a dictionary.\n",
    "Let`s see some examples\"\"\"\n",
    "print(__doc__)"
   ]
  },
  {
   "cell_type": "code",
   "execution_count": 97,
   "id": "7027919f-4b90-46e8-b470-255e797336e9",
   "metadata": {},
   "outputs": [
    {
     "name": "stdout",
     "output_type": "stream",
     "text": [
      "Converting integer to float \n",
      "\n",
      "x =  10  - it`s a\t <class 'int'> \tdatatype\n",
      "\n",
      "coverting x, which is a integer datatype into float and store it`s value to y\n",
      "\n",
      "y =  10.0  - it`s a\t <class 'float'> \tdatatype\n"
     ]
    }
   ],
   "source": [
    "'''Converting integer to float'''\n",
    "print(__doc__,\"\\n\")\n",
    "x = 10\n",
    "print(\"x = \",x,\" - it`s a\\t\",type(x),\"\\tdatatype\\n\")\n",
    "'''coverting x, which is a integer datatype into float and store it`s value to y'''\n",
    "print(__doc__)\n",
    "y = float(x)\n",
    "print(\"\\ny = \",y,\" - it`s a\\t\",type(y),\"\\tdatatype\")"
   ]
  },
  {
   "cell_type": "code",
   "execution_count": 99,
   "id": "c2749b29-fde2-4215-8f98-5220e27e0180",
   "metadata": {},
   "outputs": [
    {
     "name": "stdout",
     "output_type": "stream",
     "text": [
      "Convert float to integer \n",
      "\n",
      "a =  5.6  - it`s a\t <class 'float'> \tdatatype\n",
      "\n",
      "coverting a, which is a float datatype into integer and store it`s value to b\n",
      "\n",
      "b =  5  - it`s a\t <class 'int'> \tdatatype\n"
     ]
    }
   ],
   "source": [
    "'''Convert float to integer'''\n",
    "print(__doc__,\"\\n\")\n",
    "a = 5.6\n",
    "print(\"a = \",a,\" - it`s a\\t\",type(a),\"\\tdatatype\\n\")\n",
    "'''coverting a, which is a float datatype into integer and store it`s value to b'''\n",
    "print(__doc__)\n",
    "b = int(a)\n",
    "print(\"\\nb = \",b,\" - it`s a\\t\",type(b),\"\\tdatatype\")"
   ]
  },
  {
   "cell_type": "code",
   "execution_count": 101,
   "id": "ad25cc7d-1e7a-4125-aa18-7e88458db52b",
   "metadata": {},
   "outputs": [
    {
     "name": "stdout",
     "output_type": "stream",
     "text": [
      "Convert integer to string \n",
      "\n",
      "num =  123  - it`s a\t <class 'int'> \tdatatype\n",
      "\n",
      "coverting num, which is a integer datatype into string and store it`s value to string_num\n",
      "\n",
      "string_num =  123  - it`s a\t <class 'str'> \tdatatype\n"
     ]
    }
   ],
   "source": [
    "'''Convert integer to string'''\n",
    "print(__doc__,\"\\n\")\n",
    "num = 123\n",
    "print(\"num = \",num,\" - it`s a\\t\",type(num),\"\\tdatatype\\n\")\n",
    "'''coverting num, which is a integer datatype into string and store it`s value to string_num'''\n",
    "print(__doc__)\n",
    "string_num = str(num)\n",
    "print(\"\\nstring_num = \",string_num,\" - it`s a\\t\",type(string_num),\"\\tdatatype\")"
   ]
  },
  {
   "cell_type": "code",
   "execution_count": 131,
   "id": "f2823fb3-e925-421d-a3cb-d42136e07ec4",
   "metadata": {},
   "outputs": [
    {
     "name": "stdout",
     "output_type": "stream",
     "text": [
      "Convert string to integer \n",
      "\n",
      "string_num =  456  - it`s a\t <class 'str'> \tdatatype\n",
      "\n",
      "coverting sting_num, which is a string datatype into integer and store it`s value to num\n",
      "\n",
      "num =  456  - it`s a\t <class 'int'> \tdatatype\n"
     ]
    }
   ],
   "source": [
    "'''Convert string to integer'''\n",
    "print(__doc__,\"\\n\")\n",
    "string_num = \"456\"\n",
    "print(\"string_num = \",string_num,\" - it`s a\\t\",type(string_num),\"\\tdatatype\\n\")\n",
    "'''coverting sting_num, which is a string datatype into integer and store it`s value to num'''\n",
    "print(__doc__)\n",
    "num = int(string_num)\n",
    "print(\"\\nnum = \",num,\" - it`s a\\t\",type(num),\"\\tdatatype\")"
   ]
  },
  {
   "cell_type": "code",
   "execution_count": 105,
   "id": "0ec57f75-dbd7-48ba-8914-5f73306ad871",
   "metadata": {},
   "outputs": [
    {
     "name": "stdout",
     "output_type": "stream",
     "text": [
      "Using constructors: Some data types have constructors that can be used to create objects of that data type from other data types.\n",
      "\n",
      "Convert string to list \n",
      "\n",
      "string =  hello  - it`s a\t <class 'str'> \tdatatype\n",
      "\n",
      "coverting sting, which is a string datatype into list and store it`s value to list_from_string\n",
      "\n",
      "list_from_string =  ['h', 'e', 'l', 'l', 'o']  - it`s a\t <class 'list'> \tdatatype\n"
     ]
    }
   ],
   "source": [
    "'''Using constructors: Some data types have constructors that can be used to create objects of that data type from other data types.\n",
    "\n",
    "Convert string to list'''\n",
    "print(__doc__,\"\\n\")\n",
    "string = \"hello\"\n",
    "print(\"string = \",string,\" - it`s a\\t\",type(string),\"\\tdatatype\\n\")\n",
    "'''coverting sting, which is a string datatype into list and store it`s value to list_from_string'''\n",
    "print(__doc__)\n",
    "list_from_string = list(string)\n",
    "print(\"\\nlist_from_string = \",list_from_string,\" - it`s a\\t\",type(list_from_string),\"\\tdatatype\")"
   ]
  },
  {
   "cell_type": "code",
   "execution_count": 108,
   "id": "b06192d2-7f6b-466b-bd0f-0826d34e51e7",
   "metadata": {},
   "outputs": [
    {
     "name": "stdout",
     "output_type": "stream",
     "text": [
      "Convert list to tuple \n",
      "\n",
      "my_list =  [1, 2, 3]  - it`s a\t <class 'list'> \tdatatype\n",
      "\n",
      "coverting my_list, which is a list datatype into tuple and store it`s value to my_tuple\n",
      "\n",
      "my_tuple =  (1, 2, 3)  - it`s a\t <class 'tuple'> \tdatatype\n",
      "\n",
      " These are some common methods for type conversion in Python.\n"
     ]
    }
   ],
   "source": [
    "'''Convert list to tuple'''\n",
    "print(__doc__,\"\\n\")\n",
    "my_list = [1, 2, 3]\n",
    "print(\"my_list = \",my_list,\" - it`s a\\t\",type(my_list),\"\\tdatatype\\n\")\n",
    "'''coverting my_list, which is a list datatype into tuple and store it`s value to my_tuple'''\n",
    "print(__doc__)\n",
    "my_tuple = tuple(my_list)\n",
    "print(\"\\nmy_tuple = \",my_tuple,\" - it`s a\\t\",type(my_tuple),\"\\tdatatype\")\n",
    "\n",
    "'''These are some common methods for type conversion in Python.'''\n",
    "print(\"\\n\",__doc__)"
   ]
  },
  {
   "cell_type": "code",
   "execution_count": 109,
   "id": "3e03fd33-f3ac-481e-9ef6-187e476f1a95",
   "metadata": {},
   "outputs": [
    {
     "name": "stdout",
     "output_type": "stream",
     "text": [
      "Q4. How do you write and execute a Python script from the command line?\n"
     ]
    }
   ],
   "source": [
    "'''Q4. How do you write and execute a Python script from the command line?'''\n",
    "print(__doc__)"
   ]
  },
  {
   "cell_type": "code",
   "execution_count": 127,
   "id": "ba7830b9-e5ef-41e6-89b6-ceabebc06757",
   "metadata": {},
   "outputs": [
    {
     "name": "stdout",
     "output_type": "stream",
     "text": [
      "To write and execute a Python script from the command line, we need to follow these steps:\n",
      "\n",
      "\n",
      "STEP 1 : Write Your Python Script: Use a text editor (such as Notepad, Sublime Text, Atom, or Visual Studio Code) to write our Python script.\n",
      "\n",
      "Save the script with a .py extension, which indicates that it's a Python script.\n",
      "\n",
      "For example, let's create a simple Python script named test.py:\n",
      "\n",
      "            print(\"Hello, world!\")\n",
      "            test=1\n"
     ]
    }
   ],
   "source": [
    "'''To write and execute a Python script from the command line, we need to follow these steps:\n",
    "\n",
    "\n",
    "STEP 1 : Write Your Python Script: Use a text editor (such as Notepad, Sublime Text, Atom, or Visual Studio Code) to write our Python script.\n",
    "\n",
    "Save the script with a .py extension, which indicates that it's a Python script.\n",
    "\n",
    "For example, let's create a simple Python script named test.py:\n",
    "\n",
    "            print(\"Hello, world!\")\n",
    "            test=1'''\n",
    "print(__doc__)"
   ]
  },
  {
   "cell_type": "code",
   "execution_count": 126,
   "id": "bad5a7b3-0b0f-428c-8195-7e6389117a80",
   "metadata": {},
   "outputs": [
    {
     "name": "stdout",
     "output_type": "stream",
     "text": [
      "STEP 2 : Open Command Line or Terminal: Open our command line interface. This could be Command Prompt on Windows, Terminal on macOS/Linux, \n",
      "\n",
      "or any other terminal emulator.\n"
     ]
    }
   ],
   "source": [
    "'''STEP 2 : Open Command Line or Terminal: Open our command line interface. This could be Command Prompt on Windows, Terminal on macOS/Linux, \n",
    "\n",
    "or any other terminal emulator.'''\n",
    "print(__doc__)"
   ]
  },
  {
   "cell_type": "code",
   "execution_count": 125,
   "id": "b3eaa298-25ca-4e75-a244-494764370d9f",
   "metadata": {},
   "outputs": [
    {
     "name": "stdout",
     "output_type": "stream",
     "text": [
      "STEP 3 : Navigate to the Directory where Script is saved : Use the cd command to navigate to the directory where your Python script is located.\n",
      "\n",
      "For example: ur project is saved insdie PROJECT folder in D: drive\n",
      "\n",
      "                   cd D:\\PROJECT\n",
      "\n",
      "or \n",
      "alternatively in windows , we can to enter to specific director through flie explorer and type cmd in address bar of that directory \n",
      "\n",
      "and press enter. cmd will open for that specific direcory\n"
     ]
    }
   ],
   "source": [
    "'''STEP 3 : Navigate to the Directory where Script is saved : Use the cd command to navigate to the directory where your Python script is located.\n",
    "\n",
    "For example: ur project is saved insdie PROJECT folder in D: drive\n",
    "\n",
    "                   cd D:\\PROJECT\n",
    "\n",
    "or \n",
    "alternatively in windows , we can to enter to specific director through flie explorer and type cmd in address bar of that directory \n",
    "\n",
    "and press enter. cmd will open for that specific direcory'''\n",
    "print(__doc__)"
   ]
  },
  {
   "cell_type": "code",
   "execution_count": 124,
   "id": "009f1d6f-c0a0-4b27-a7e1-05f131aba7e6",
   "metadata": {},
   "outputs": [
    {
     "name": "stdout",
     "output_type": "stream",
     "text": [
      " STEP 4 :Execute the Script: Once you're in the correct directory, we execute the Python script by typing python followed by the name of our script \n",
      "\n",
      "file (including the .py extension) and then pressing Enter.\n",
      "\n",
      "For example:\n",
      "\n",
      "            python test.py\n",
      "\n",
      "This command tells Python to execute the test.py script.\n",
      "\n",
      "After executing the script, we would see the output printed to the command line.\n",
      "\n",
      "That's it! You have successfully written and executed a Python script from the command line.\n"
     ]
    }
   ],
   "source": [
    "''' STEP 4 :Execute the Script: Once you're in the correct directory, we execute the Python script by typing python followed by the name of our script \n",
    "\n",
    "file (including the .py extension) and then pressing Enter.\n",
    "\n",
    "For example:\n",
    "\n",
    "            python test.py\n",
    "\n",
    "This command tells Python to execute the test.py script.\n",
    "\n",
    "After executing the script, we would see the output printed to the command line.\n",
    "\n",
    "That's it! You have successfully written and executed a Python script from the command line.'''\n",
    "print(__doc__)"
   ]
  },
  {
   "cell_type": "code",
   "execution_count": 128,
   "id": "8143f9e0-d89a-40b7-9139-1bb91fdb1ec6",
   "metadata": {},
   "outputs": [
    {
     "name": "stdout",
     "output_type": "stream",
     "text": [
      "Q5. Given a list my_list = [1, 2, 3, 4, 5], write the code to slice the list and obtain the sub-list [2, 3].\n"
     ]
    }
   ],
   "source": [
    "'''Q5. Given a list my_list = [1, 2, 3, 4, 5], write the code to slice the list and obtain the sub-list [2, 3].'''\n",
    "print(__doc__)"
   ]
  },
  {
   "cell_type": "code",
   "execution_count": 130,
   "id": "077d067a-8de5-4809-8699-f61e9bc1fb33",
   "metadata": {},
   "outputs": [
    {
     "name": "stdout",
     "output_type": "stream",
     "text": [
      "my_list =  [1, 2, 3, 4, 5]\n",
      "sub_list =  [2, 3]\n"
     ]
    }
   ],
   "source": [
    "my_list = [1, 2, 3, 4, 5]\n",
    "print(\"my_list = \",my_list)\n",
    "sub_list = my_list[1:3]\n",
    "print(\"sub_list = \",sub_list)"
   ]
  },
  {
   "cell_type": "code",
   "execution_count": 137,
   "id": "dfc6571f-d9fb-4215-8689-a8596924d189",
   "metadata": {},
   "outputs": [
    {
     "name": "stdout",
     "output_type": "stream",
     "text": [
      "Q6. What is a complex number in mathematics, and how is it represented in Python?\n"
     ]
    }
   ],
   "source": [
    "'''Q6. What is a complex number in mathematics, and how is it represented in Python?'''\n",
    "print(__doc__)"
   ]
  },
  {
   "cell_type": "code",
   "execution_count": 133,
   "id": "cef7a9ee-ec68-4d5d-89ca-641cf4aaffd0",
   "metadata": {},
   "outputs": [
    {
     "name": "stdout",
     "output_type": "stream",
     "text": [
      "In mathematics, a complex number is a number that comprises a real part and an imaginary part.It is typically represented in the form \n",
      "\n",
      "of \"a + bi\", where \"a\" is the real part, \"b\" is the imaginary part, and \"i\" represents the imaginary unit, which is the square root of -1.\n"
     ]
    }
   ],
   "source": [
    "'''In mathematics, a complex number is a number that comprises a real part and an imaginary part.It is typically represented in the form \n",
    "\n",
    "of \"a + bi\", where \"a\" is the real part, \"b\" is the imaginary part, and \"i\" represents the imaginary unit, which is the square root of -1.'''\n",
    "print(__doc__)"
   ]
  },
  {
   "cell_type": "code",
   "execution_count": 136,
   "id": "faae0ed4-456b-49e8-8f7b-ddf16adcb469",
   "metadata": {},
   "outputs": [
    {
     "name": "stdout",
     "output_type": "stream",
     "text": [
      "In Python, complex numbers are represented similarly. They can be created by using the syntax a + bj, where a is the real part, b is the\n",
      "\n",
      "imaginary part, and j is used to represent the imaginary unit.\n",
      "\n",
      "Here's an example:\n",
      "\n",
      "Let`s create a complex number varieable name z \n",
      "\n",
      "z =  (3+2j)  - it`s a\t <class 'complex'> \tdatatype\n",
      "\n",
      "Accessing real and imaginary parts \n",
      "\n",
      "Real part: 3.0\n",
      "\n",
      "Imaginary part: 2.0\n"
     ]
    }
   ],
   "source": [
    "'''In Python, complex numbers are represented similarly. They can be created by using the syntax a + bj, where a is the real part, b is the\n",
    "\n",
    "imaginary part, and j is used to represent the imaginary unit.\n",
    "\n",
    "Here's an example:\n",
    "\n",
    "Let`s create a complex number varieable name z'''\n",
    "print(__doc__,\"\\n\")\n",
    "z = 3 + 2j\n",
    "print(\"z = \",z,\" - it`s a\\t\",type(z),\"\\tdatatype\\n\")\n",
    "'''Accessing real and imaginary parts'''\n",
    "print(__doc__,\"\\n\")\n",
    "real_part = z.real  # Real part\n",
    "imaginary_part = z.imag  # Imaginary part\n",
    "print(\"Real part:\", real_part)\n",
    "print(\"\\nImaginary part:\", imaginary_part)\n"
   ]
  },
  {
   "cell_type": "code",
   "execution_count": 138,
   "id": "8926cfbc-5057-4ca2-b8fd-13869f958456",
   "metadata": {},
   "outputs": [
    {
     "name": "stdout",
     "output_type": "stream",
     "text": [
      "Q7. What is the correct way to declare a variable named age and assign the value 25 to it?\n"
     ]
    }
   ],
   "source": [
    "'''Q7. What is the correct way to declare a variable named age and assign the value 25 to it?'''\n",
    "print(__doc__)"
   ]
  },
  {
   "cell_type": "code",
   "execution_count": 139,
   "id": "274b8b55-18aa-48d5-a140-bbd056f9fe4a",
   "metadata": {},
   "outputs": [
    {
     "name": "stdout",
     "output_type": "stream",
     "text": [
      "age =  25  - it`s a\t <class 'int'> \tdatatype\n",
      "\n"
     ]
    }
   ],
   "source": [
    "age=25\n",
    "print(\"age = \",age,\" - it`s a\\t\",type(age),\"\\tdatatype\\n\")"
   ]
  },
  {
   "cell_type": "code",
   "execution_count": 140,
   "id": "482a8bb0-c216-4326-b78c-36d11999706d",
   "metadata": {},
   "outputs": [
    {
     "name": "stdout",
     "output_type": "stream",
     "text": [
      "Q8. Declare a variable named price and assign the value 9.99 to it. What data type does this variable belong to?\n"
     ]
    }
   ],
   "source": [
    "'''Q8. Declare a variable named price and assign the value 9.99 to it. What data type does this variable belong to?'''\n",
    "print(__doc__)"
   ]
  },
  {
   "cell_type": "code",
   "execution_count": 141,
   "id": "4e4a32c9-e7f9-4c96-8450-932ba6f25479",
   "metadata": {},
   "outputs": [
    {
     "name": "stdout",
     "output_type": "stream",
     "text": [
      "price =  9.99 \n",
      "\n",
      "Although it`s float varieable. But let`s chect it through type() function\n"
     ]
    }
   ],
   "source": [
    "price=9.99\n",
    "print(\"price = \",price,\"\\n\\nAlthough it`s float varieable. But let`s chect it through type() function\")"
   ]
  },
  {
   "cell_type": "code",
   "execution_count": 142,
   "id": "546bdf14-b7ed-4429-801e-d91ce2dc4e7f",
   "metadata": {},
   "outputs": [
    {
     "name": "stdout",
     "output_type": "stream",
     "text": [
      "price is a \t <class 'float'> \tdatatype\n",
      "\n"
     ]
    }
   ],
   "source": [
    "print(\"price is a \\t\",type(price),\"\\tdatatype\\n\")"
   ]
  },
  {
   "cell_type": "code",
   "execution_count": 143,
   "id": "18a98cce-cbec-4af1-bfd9-45d290ff8032",
   "metadata": {},
   "outputs": [
    {
     "name": "stdout",
     "output_type": "stream",
     "text": [
      "Q9. Create a variable named name and assign your full name to it as a string. How would you print the value of this variable?\n"
     ]
    }
   ],
   "source": [
    "'''Q9. Create a variable named name and assign your full name to it as a string. How would you print the value of this variable?'''\n",
    "print(__doc__)"
   ]
  },
  {
   "cell_type": "code",
   "execution_count": 144,
   "id": "434f8f85-28fc-415d-8e49-1b7ed4603888",
   "metadata": {},
   "outputs": [
    {
     "name": "stdout",
     "output_type": "stream",
     "text": [
      "name =  AYAN SINGHA \n",
      "It`s a\t <class 'str'> \tdatatype\n"
     ]
    }
   ],
   "source": [
    "name=\"AYAN SINGHA\"\n",
    "print(\"name = \",name,\"\\nIt`s a\\t\",type(name),\"\\tdatatype\")"
   ]
  },
  {
   "cell_type": "code",
   "execution_count": 145,
   "id": "350282a1-ac9e-4a0e-a5fc-792412f87027",
   "metadata": {},
   "outputs": [
    {
     "name": "stdout",
     "output_type": "stream",
     "text": [
      "Q10. Given the string \"Hello, World!\", extract the substring \"World\".\n"
     ]
    }
   ],
   "source": [
    "'''Q10. Given the string \"Hello, World!\", extract the substring \"World\".'''\n",
    "print(__doc__)"
   ]
  },
  {
   "cell_type": "code",
   "execution_count": 148,
   "id": "d7e330b3-2276-4486-9e4b-04bcb2297ea9",
   "metadata": {},
   "outputs": [
    {
     "name": "stdout",
     "output_type": "stream",
     "text": [
      "main_string =  Hello, World!\n",
      "substring =  World\n"
     ]
    }
   ],
   "source": [
    "main_string = \"Hello, World!\"\n",
    "print(\"main_string = \",main_string)\n",
    "substring = main_string[7:12]\n",
    "print(\"substring = \",substring)\n"
   ]
  },
  {
   "cell_type": "code",
   "execution_count": 149,
   "id": "2f38af56-0440-48aa-a10e-5e0c06a3deca",
   "metadata": {},
   "outputs": [
    {
     "name": "stdout",
     "output_type": "stream",
     "text": [
      "Q11. Create a variable named \"is_student\" and assign it a boolean value indicating whether you are currently a student or not.\n"
     ]
    }
   ],
   "source": [
    "'''Q11. Create a variable named \"is_student\" and assign it a boolean value indicating whether you are currently a student or not.'''\n",
    "print(__doc__)"
   ]
  },
  {
   "cell_type": "code",
   "execution_count": 152,
   "id": "bbc83a8d-0984-4a14-a112-985d20368c01",
   "metadata": {},
   "outputs": [
    {
     "name": "stdout",
     "output_type": "stream",
     "text": [
      "is_student =  True \n",
      "It`s a\t <class 'bool'> \tdatatype\n",
      "Yes, I am a student\n"
     ]
    }
   ],
   "source": [
    "is_student = True \n",
    "print(\"is_student = \",is_student,\"\\nIt`s a\\t\",type(is_student),\"\\tdatatype\")\n",
    "if is_student:\n",
    "    print(\"Yes, I am a student\")\n",
    "else:\n",
    "    print(\"No, I am not a student\")"
   ]
  },
  {
   "cell_type": "code",
   "execution_count": null,
   "id": "54f8fab3-9ce8-4c10-b702-84c3ffeb2cd8",
   "metadata": {},
   "outputs": [],
   "source": []
  }
 ],
 "metadata": {
  "kernelspec": {
   "display_name": "Python 3 (ipykernel)",
   "language": "python",
   "name": "python3"
  },
  "language_info": {
   "codemirror_mode": {
    "name": "ipython",
    "version": 3
   },
   "file_extension": ".py",
   "mimetype": "text/x-python",
   "name": "python",
   "nbconvert_exporter": "python",
   "pygments_lexer": "ipython3",
   "version": "3.11.3"
  }
 },
 "nbformat": 4,
 "nbformat_minor": 5
}
